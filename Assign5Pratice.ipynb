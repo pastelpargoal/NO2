{
  "nbformat": 4,
  "nbformat_minor": 0,
  "metadata": {
    "colab": {
      "provenance": [],
      "authorship_tag": "ABX9TyOxclRivejkBvWLOkgG4iKG",
      "include_colab_link": true
    },
    "kernelspec": {
      "name": "python3",
      "display_name": "Python 3"
    },
    "language_info": {
      "name": "python"
    }
  },
  "cells": [
    {
      "cell_type": "markdown",
      "metadata": {
        "id": "view-in-github",
        "colab_type": "text"
      },
      "source": [
        "<a href=\"https://colab.research.google.com/github/pastelpargoal/NO2/blob/main/Assign5Pratice.ipynb\" target=\"_parent\"><img src=\"https://colab.research.google.com/assets/colab-badge.svg\" alt=\"Open In Colab\"/></a>"
      ]
    },
    {
      "cell_type": "code",
      "execution_count": 58,
      "metadata": {
        "id": "LAghdPriAILu"
      },
      "outputs": [],
      "source": [
        "import pandas as pd\n",
        "import numpy as nd\n",
        "import geopandas as gpd"
      ]
    },
    {
      "cell_type": "markdown",
      "source": [
        "## HydroLAKES"
      ],
      "metadata": {
        "id": "DxtqkCIwAlnZ"
      }
    },
    {
      "cell_type": "code",
      "source": [
        "! wget 'https://97dc600d3ccc765f840c-d5a4231de41cd7a15e06ac00b0bcc552.ssl.cf5.rackcdn.com/HydroLAKES_polys_v10_shp.zip'"
      ],
      "metadata": {
        "colab": {
          "base_uri": "https://localhost:8080/"
        },
        "id": "GCIxmfpDAa5R",
        "outputId": "76247990-4537-47e3-b66c-5b82d80a037d"
      },
      "execution_count": 59,
      "outputs": [
        {
          "output_type": "stream",
          "name": "stdout",
          "text": [
            "--2025-03-04 21:51:38--  https://97dc600d3ccc765f840c-d5a4231de41cd7a15e06ac00b0bcc552.ssl.cf5.rackcdn.com/HydroLAKES_polys_v10_shp.zip\n",
            "Resolving 97dc600d3ccc765f840c-d5a4231de41cd7a15e06ac00b0bcc552.ssl.cf5.rackcdn.com (97dc600d3ccc765f840c-d5a4231de41cd7a15e06ac00b0bcc552.ssl.cf5.rackcdn.com)... 23.61.183.253\n",
            "Connecting to 97dc600d3ccc765f840c-d5a4231de41cd7a15e06ac00b0bcc552.ssl.cf5.rackcdn.com (97dc600d3ccc765f840c-d5a4231de41cd7a15e06ac00b0bcc552.ssl.cf5.rackcdn.com)|23.61.183.253|:443... connected.\n",
            "HTTP request sent, awaiting response... 200 OK\n",
            "Length: 820295132 (782M) [application/zip]\n",
            "Saving to: ‘HydroLAKES_polys_v10_shp.zip.1’\n",
            "\n",
            "HydroLAKES_polys_v1 100%[===================>] 782.29M  53.9MB/s    in 16s     \n",
            "\n",
            "2025-03-04 21:51:54 (47.7 MB/s) - ‘HydroLAKES_polys_v10_shp.zip.1’ saved [820295132/820295132]\n",
            "\n"
          ]
        }
      ]
    },
    {
      "cell_type": "code",
      "source": [
        "! unzip HydroLAKES_polys_v10_shp"
      ],
      "metadata": {
        "colab": {
          "base_uri": "https://localhost:8080/"
        },
        "id": "ZSU8OQciCQ5o",
        "outputId": "74005f71-2461-4e2d-e270-2e827f3d1aae"
      },
      "execution_count": null,
      "outputs": [
        {
          "output_type": "stream",
          "name": "stdout",
          "text": [
            "Archive:  HydroLAKES_polys_v10_shp.zip\n",
            "replace HydroLAKES_polys_v10_shp/HydroLAKES_polys_v10.dbf? [y]es, [n]o, [A]ll, [N]one, [r]ename: "
          ]
        }
      ]
    },
    {
      "cell_type": "code",
      "source": [
        "shape = \"HydroLAKES_polys_v10_shp/HydroLAKES_polys_v10.shp\"\n",
        "hLake = gpd.read_file(shape)"
      ],
      "metadata": {
        "id": "D-NkSKPcCinZ"
      },
      "execution_count": null,
      "outputs": []
    },
    {
      "cell_type": "code",
      "source": [
        "hLake.head()"
      ],
      "metadata": {
        "id": "GqUHAypnC0u5"
      },
      "execution_count": null,
      "outputs": []
    },
    {
      "cell_type": "markdown",
      "source": [
        "## HydroBASINS"
      ],
      "metadata": {
        "id": "byPWoZwaAqgp"
      }
    },
    {
      "cell_type": "code",
      "source": [],
      "metadata": {
        "id": "dh57jqF-CiBa"
      },
      "execution_count": null,
      "outputs": []
    },
    {
      "cell_type": "code",
      "source": [
        "! wget 'https://www.dropbox.com/sh/hmpwobbz9qixxpe/AACiujdXJ5DfsaK7zcKOJyZpa/HydroBASINS/customized/af/hybas_lake_af_lev01-12_v1c.zip?dl=0'"
      ],
      "metadata": {
        "id": "ZD1Bf-PPAkWA"
      },
      "execution_count": null,
      "outputs": []
    },
    {
      "cell_type": "code",
      "source": [
        "! unzip 'hybas_lake_af_lev01-12_v1c.zip?dl=0'"
      ],
      "metadata": {
        "id": "GQKSsyXpCX9W"
      },
      "execution_count": null,
      "outputs": []
    },
    {
      "cell_type": "code",
      "source": [
        "shape = \"hybas_lake_af_lev01_v1c.shp\"\n",
        "hBasin1 = gpd.read_file(shape)"
      ],
      "metadata": {
        "id": "z8Z9RoPXC_-d"
      },
      "execution_count": null,
      "outputs": []
    },
    {
      "cell_type": "code",
      "source": [
        "shape = \"hybas_lake_af_lev02_v1c.shp\"\n",
        "hB2 = gpd.read_file(shape)"
      ],
      "metadata": {
        "id": "zCcABRbaEVzn"
      },
      "execution_count": null,
      "outputs": []
    },
    {
      "cell_type": "code",
      "source": [
        "shape = \"hybas_lake_af_lev03_v1c.shp\"\n",
        "hB3 = gpd.read_file(shape)"
      ],
      "metadata": {
        "id": "xQYpROOZEaH1"
      },
      "execution_count": null,
      "outputs": []
    },
    {
      "cell_type": "code",
      "source": [
        "shape = \"hybas_lake_af_lev04_v1c.shp\"\n",
        "hB4 = gpd.read_file(shape)"
      ],
      "metadata": {
        "id": "jSmkYC-4EdQ_"
      },
      "execution_count": null,
      "outputs": []
    },
    {
      "cell_type": "code",
      "source": [
        "shape = \"hybas_lake_af_lev05_v1c.shp\"\n",
        "hB5 = gpd.read_file(shape)"
      ],
      "metadata": {
        "id": "J6GsGRQNEgaM"
      },
      "execution_count": null,
      "outputs": []
    },
    {
      "cell_type": "code",
      "source": [
        "shape = \"hybas_lake_af_lev06_v1c.shp\"\n",
        "hB6 = gpd.read_file(shape)"
      ],
      "metadata": {
        "id": "CgZimj4UEiqY"
      },
      "execution_count": null,
      "outputs": []
    },
    {
      "cell_type": "code",
      "source": [
        "shape = \"hybas_lake_af_lev07_v1c.shp\"\n",
        "hB7 = gpd.read_file(shape)"
      ],
      "metadata": {
        "id": "47b8r1zaElC0"
      },
      "execution_count": null,
      "outputs": []
    },
    {
      "cell_type": "code",
      "source": [
        "shape = \"hybas_lake_af_lev08_v1c.shp\"\n",
        "hB8 = gpd.read_file(shape)"
      ],
      "metadata": {
        "id": "xZ0ojHeNEnX8"
      },
      "execution_count": null,
      "outputs": []
    },
    {
      "cell_type": "code",
      "source": [
        "shape = \"hybas_lake_af_lev09_v1c.shp\"\n",
        "hB9 = gpd.read_file(shape)"
      ],
      "metadata": {
        "id": "MZ1fsvp5Epj-"
      },
      "execution_count": null,
      "outputs": []
    },
    {
      "cell_type": "code",
      "source": [
        "hb= pd.concat([hBasin1, hB2, hB3, hB4, hB5, hB6, hB7, hB8, hB9])\n",
        "hb.head()"
      ],
      "metadata": {
        "id": "PrsCkE8lE96c"
      },
      "execution_count": null,
      "outputs": []
    },
    {
      "cell_type": "markdown",
      "source": [
        "## Water Basin Mean Annual Temperature"
      ],
      "metadata": {
        "id": "RvoFnkWlA1Ez"
      }
    },
    {
      "cell_type": "code",
      "source": [
        "wtemp= pd.read_csv('https://raw.githubusercontent.com/envirodatascience/ENVS-617-Class-Data/main/basin_temp_africa_2000_2014.csv')\n",
        "wtemp.head()\n",
        "#wtemp.Year.value_counts()"
      ],
      "metadata": {
        "id": "Yj3gFhFoA6vT"
      },
      "execution_count": null,
      "outputs": []
    },
    {
      "cell_type": "markdown",
      "source": [
        "# Calculate the change in mean annual temperature between 2000 and 2014\n",
        "a. Create a new dataframe that includes the change in average annual temperature\n",
        "between 2000 and 2014 in a new column, for each basin. Be thoughtful about\n",
        "your units."
      ],
      "metadata": {
        "id": "X53ra9xzGzE3"
      }
    },
    {
      "cell_type": "code",
      "source": [
        "wtemp= wtemp.pivot(index= 'HYBAS_ID', columns= 'Year', values= 'mean_annual_temp_k').reset_index()\n"
      ],
      "metadata": {
        "id": "UYg_vqP0GQTt"
      },
      "execution_count": null,
      "outputs": []
    },
    {
      "cell_type": "code",
      "source": [
        "wtemp[2000]"
      ],
      "metadata": {
        "id": "BRYODtmUIdVn"
      },
      "execution_count": null,
      "outputs": []
    },
    {
      "cell_type": "code",
      "source": [
        "wtemp.head()\n",
        "wtemp['tempDiff']= wtemp[2000] - wtemp[2014]\n",
        "wtemp.tempDiff = wtemp.tempDiff - 273.15\n",
        "wtemp.head()"
      ],
      "metadata": {
        "id": "uLwYXmb2IC3D"
      },
      "execution_count": null,
      "outputs": []
    }
  ]
}